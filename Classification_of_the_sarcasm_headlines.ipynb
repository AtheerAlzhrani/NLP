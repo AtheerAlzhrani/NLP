{
  "nbformat": 4,
  "nbformat_minor": 0,
  "metadata": {
    "colab": {
      "provenance": [],
      "authorship_tag": "ABX9TyPOwuDjJ6sZKBdKy/he8IPI",
      "include_colab_link": true
    },
    "kernelspec": {
      "name": "python3",
      "display_name": "Python 3"
    },
    "language_info": {
      "name": "python"
    }
  },
  "cells": [
    {
      "cell_type": "markdown",
      "metadata": {
        "id": "view-in-github",
        "colab_type": "text"
      },
      "source": [
        "<a href=\"https://colab.research.google.com/github/AtheerAlzhrani/NLP/blob/main/Classification_of_the_sarcasm_headlines.ipynb\" target=\"_parent\"><img src=\"https://colab.research.google.com/assets/colab-badge.svg\" alt=\"Open In Colab\"/></a>"
      ]
    },
    {
      "cell_type": "code",
      "execution_count": null,
      "metadata": {
        "colab": {
          "base_uri": "https://localhost:8080/"
        },
        "id": "k8E-AOdXvBMq",
        "outputId": "539b8353-e753-447b-a4c7-d1d9f2e294c0"
      },
      "outputs": [
        {
          "output_type": "stream",
          "name": "stdout",
          "text": [
            "Colab only includes TensorFlow 2.x; %tensorflow_version has no effect.\n"
          ]
        }
      ],
      "source": [
        "try:\n",
        "  %tensorflow_version 2.x\n",
        "except Exception:\n",
        "  pass"
      ]
    },
    {
      "cell_type": "code",
      "source": [
        "import json\n",
        "import tensorflow as tf\n",
        "\n",
        "from tensorflow.keras.preprocessing.text import Tokenizer\n",
        "from tensorflow.keras.preprocessing.sequence import pad_sequences"
      ],
      "metadata": {
        "id": "3sG3SB91vTDa"
      },
      "execution_count": null,
      "outputs": []
    },
    {
      "cell_type": "code",
      "source": [
        "vocab_size=10000\n",
        "embedding_dim=16\n",
        "max_length=100\n",
        "trunc_type='post'\n",
        "padding_type='post'\n",
        "oov_tok=\"<OOV>\"\n",
        "training_size=20000"
      ],
      "metadata": {
        "id": "bzEJYwOjvyxJ"
      },
      "execution_count": null,
      "outputs": []
    },
    {
      "cell_type": "code",
      "source": [
        "!wget --no-check-certificate \\\n",
        "     https://storage.googleapis.com/learning-datasets/sarcasm.json  \\\n",
        "     -O /tmp/sarcasm.json"
      ],
      "metadata": {
        "colab": {
          "base_uri": "https://localhost:8080/"
        },
        "id": "0H1cs_etvTom",
        "outputId": "d0ea7efc-b249-467b-fe20-e54ccee7bf5b"
      },
      "execution_count": null,
      "outputs": [
        {
          "output_type": "stream",
          "name": "stdout",
          "text": [
            "--2024-04-14 09:03:54--  https://storage.googleapis.com/learning-datasets/sarcasm.json\n",
            "Resolving storage.googleapis.com (storage.googleapis.com)... 64.233.182.207, 64.233.183.207, 173.194.193.207, ...\n",
            "Connecting to storage.googleapis.com (storage.googleapis.com)|64.233.182.207|:443... connected.\n",
            "HTTP request sent, awaiting response... 200 OK\n",
            "Length: 5643545 (5.4M) [application/json]\n",
            "Saving to: ‘/tmp/sarcasm.json’\n",
            "\n",
            "\r/tmp/sarcasm.json     0%[                    ]       0  --.-KB/s               \r/tmp/sarcasm.json   100%[===================>]   5.38M  --.-KB/s    in 0.03s   \n",
            "\n",
            "2024-04-14 09:03:54 (189 MB/s) - ‘/tmp/sarcasm.json’ saved [5643545/5643545]\n",
            "\n"
          ]
        }
      ]
    },
    {
      "cell_type": "code",
      "source": [
        "with open(\"/tmp/sarcasm.json\",'r') as f:\n",
        "  datastore=json.load(f)\n",
        "sentences=[]\n",
        "labels=[]\n",
        "\n",
        "for item in datastore:\n",
        "  sentences.append(item['headline'])\n",
        "  labels.append(item['is_sarcastic'])"
      ],
      "metadata": {
        "id": "cg2Cv0yAwx_U"
      },
      "execution_count": null,
      "outputs": []
    },
    {
      "cell_type": "code",
      "source": [
        "training_sentences=sentences[0:training_size]\n",
        "testing_sentences=sentences[training_size:]\n",
        "\n",
        "training_labels=labels[0:training_size]\n",
        "testing_labels=labels[training_size:]"
      ],
      "metadata": {
        "id": "7cWR6pP9yucB"
      },
      "execution_count": null,
      "outputs": []
    },
    {
      "cell_type": "code",
      "source": [
        "from os import truncate\n",
        "tokenizer=Tokenizer(num_words=vocab_size,oov_token=oov_tok)\n",
        "tokenizer.fit_on_texts(training_sentences)\n",
        "\n",
        "word_index=tokenizer.word_index\n",
        "\n",
        "training_sequences=tokenizer.texts_to_sequences(training_sentences)\n",
        "training_padded=pad_sequences(training_sequences,maxlen=max_length,padding=padding_type,truncating=trunc_type)\n",
        "\n",
        "testing_sequences=tokenizer.texts_to_sequences(testing_sentences)\n",
        "testing_padded=pad_sequences(testing_sequences,maxlen=max_length,padding=padding_type,truncating=trunc_type)"
      ],
      "metadata": {
        "id": "F-ozqgdBzgYw"
      },
      "execution_count": null,
      "outputs": []
    },
    {
      "cell_type": "code",
      "source": [
        "import numpy as np\n",
        "\n",
        "training_padded=np.array(training_padded)\n",
        "training_labels=np.array(training_labels)\n",
        "testing_padded=np.array(testing_padded)\n",
        "testing_labels=np.array(testing_labels)"
      ],
      "metadata": {
        "id": "-LBjoj26wkzH"
      },
      "execution_count": null,
      "outputs": []
    },
    {
      "cell_type": "code",
      "source": [
        "model=tf.keras.Sequential([\n",
        "    tf.keras.layers.Embedding(vocab_size,embedding_dim,input_length=max_length),\n",
        "    tf.keras.layers.GlobalAveragePooling1D(),\n",
        "    tf.keras.layers.Dense(24,activation='relu'),\n",
        "    tf.keras.layers.Dense(1,activation='sigmoid')\n",
        "])"
      ],
      "metadata": {
        "id": "ifD3uwCqvTzt"
      },
      "execution_count": null,
      "outputs": []
    },
    {
      "cell_type": "code",
      "source": [
        "model.compile(loss='binary_crossentropy',optimizer='adam',metrics=['accuracy'])"
      ],
      "metadata": {
        "id": "CTQ0URVf_caw"
      },
      "execution_count": null,
      "outputs": []
    },
    {
      "cell_type": "code",
      "source": [
        "model.summary()"
      ],
      "metadata": {
        "colab": {
          "base_uri": "https://localhost:8080/"
        },
        "id": "FGL0oaUo_2u9",
        "outputId": "a0146505-0216-4992-a43d-713a17b1f925"
      },
      "execution_count": null,
      "outputs": [
        {
          "output_type": "stream",
          "name": "stdout",
          "text": [
            "Model: \"sequential\"\n",
            "_________________________________________________________________\n",
            " Layer (type)                Output Shape              Param #   \n",
            "=================================================================\n",
            " embedding_4 (Embedding)     (None, 100, 16)           160000    \n",
            "                                                                 \n",
            " global_average_pooling1d_1  (None, 16)                0         \n",
            "  (GlobalAveragePooling1D)                                       \n",
            "                                                                 \n",
            " dense (Dense)               (None, 24)                408       \n",
            "                                                                 \n",
            " dense_1 (Dense)             (None, 1)                 25        \n",
            "                                                                 \n",
            "=================================================================\n",
            "Total params: 160433 (626.69 KB)\n",
            "Trainable params: 160433 (626.69 KB)\n",
            "Non-trainable params: 0 (0.00 Byte)\n",
            "_________________________________________________________________\n"
          ]
        }
      ]
    },
    {
      "cell_type": "code",
      "source": [
        "num_epochs=30\n",
        "history=model.fit"
      ],
      "metadata": {
        "colab": {
          "base_uri": "https://localhost:8080/"
        },
        "id": "9BdUtFgn_JjO",
        "outputId": "55fdc0b4-1d42-4933-d066-8e90efe82bbc"
      },
      "execution_count": null,
      "outputs": [
        {
          "output_type": "stream",
          "name": "stdout",
          "text": [
            "Epoch 1/30\n",
            "625/625 [==============================] - 4s 5ms/step - loss: 0.6604 - accuracy: 0.5900\n",
            "Epoch 2/30\n",
            "625/625 [==============================] - 3s 5ms/step - loss: 0.4153 - accuracy: 0.8395\n",
            "Epoch 3/30\n",
            "625/625 [==============================] - 3s 4ms/step - loss: 0.3013 - accuracy: 0.8823\n",
            "Epoch 4/30\n",
            "625/625 [==============================] - 3s 5ms/step - loss: 0.2509 - accuracy: 0.9003\n",
            "Epoch 5/30\n",
            "625/625 [==============================] - 3s 5ms/step - loss: 0.2161 - accuracy: 0.9165\n",
            "Epoch 6/30\n",
            "625/625 [==============================] - 3s 5ms/step - loss: 0.1890 - accuracy: 0.9291\n",
            "Epoch 7/30\n",
            "625/625 [==============================] - 3s 6ms/step - loss: 0.1674 - accuracy: 0.9387\n",
            "Epoch 8/30\n",
            "625/625 [==============================] - 5s 8ms/step - loss: 0.1501 - accuracy: 0.9455\n",
            "Epoch 9/30\n",
            "625/625 [==============================] - 3s 5ms/step - loss: 0.1361 - accuracy: 0.9507\n",
            "Epoch 10/30\n",
            "625/625 [==============================] - 4s 6ms/step - loss: 0.1220 - accuracy: 0.9568\n",
            "Epoch 11/30\n",
            "625/625 [==============================] - 4s 6ms/step - loss: 0.1118 - accuracy: 0.9620\n",
            "Epoch 12/30\n",
            "625/625 [==============================] - 4s 7ms/step - loss: 0.1004 - accuracy: 0.9675\n",
            "Epoch 13/30\n",
            "625/625 [==============================] - 3s 5ms/step - loss: 0.0912 - accuracy: 0.9700\n",
            "Epoch 14/30\n",
            "625/625 [==============================] - 3s 5ms/step - loss: 0.0845 - accuracy: 0.9715\n",
            "Epoch 15/30\n",
            "625/625 [==============================] - 7s 11ms/step - loss: 0.0780 - accuracy: 0.9749\n",
            "Epoch 16/30\n",
            "625/625 [==============================] - 5s 8ms/step - loss: 0.0715 - accuracy: 0.9771\n",
            "Epoch 17/30\n",
            "625/625 [==============================] - 6s 10ms/step - loss: 0.0635 - accuracy: 0.9797\n",
            "Epoch 18/30\n",
            "625/625 [==============================] - 6s 10ms/step - loss: 0.0599 - accuracy: 0.9811\n",
            "Epoch 19/30\n",
            "625/625 [==============================] - 5s 8ms/step - loss: 0.0555 - accuracy: 0.9827\n",
            "Epoch 20/30\n",
            "625/625 [==============================] - 6s 10ms/step - loss: 0.0495 - accuracy: 0.9851\n",
            "Epoch 21/30\n",
            "625/625 [==============================] - 5s 8ms/step - loss: 0.0456 - accuracy: 0.9866\n",
            "Epoch 22/30\n",
            "625/625 [==============================] - 6s 9ms/step - loss: 0.0421 - accuracy: 0.9871\n",
            "Epoch 23/30\n",
            "625/625 [==============================] - 5s 8ms/step - loss: 0.0390 - accuracy: 0.9890\n",
            "Epoch 24/30\n",
            "625/625 [==============================] - 5s 9ms/step - loss: 0.0352 - accuracy: 0.9895\n",
            "Epoch 25/30\n",
            "625/625 [==============================] - 6s 9ms/step - loss: 0.0328 - accuracy: 0.9898\n",
            "Epoch 26/30\n",
            "625/625 [==============================] - 5s 8ms/step - loss: 0.0300 - accuracy: 0.9913\n",
            "Epoch 27/30\n",
            "625/625 [==============================] - 6s 9ms/step - loss: 0.0271 - accuracy: 0.9920\n",
            "Epoch 28/30\n",
            "625/625 [==============================] - 6s 9ms/step - loss: 0.0247 - accuracy: 0.9938\n",
            "Epoch 29/30\n",
            "625/625 [==============================] - 5s 8ms/step - loss: 0.0245 - accuracy: 0.9926\n",
            "Epoch 30/30\n",
            "625/625 [==============================] - 6s 10ms/step - loss: 0.0223 - accuracy: 0.9940\n"
          ]
        }
      ]
    },
    {
      "cell_type": "code",
      "source": [
        "e=model.layers[0]\n",
        "weights=e.get_weights()[0]\n",
        "print(weights.shape)"
      ],
      "metadata": {
        "colab": {
          "base_uri": "https://localhost:8080/"
        },
        "id": "mkAPjGjIBwP7",
        "outputId": "ff350ec8-319c-4822-f8ee-bc8d2d6e8dd1"
      },
      "execution_count": null,
      "outputs": [
        {
          "output_type": "stream",
          "name": "stdout",
          "text": [
            "(10000, 16)\n"
          ]
        }
      ]
    },
    {
      "cell_type": "code",
      "source": [
        "sentences=['robin williams inflicted on holiday moviegoers for eighth straight year','what it\\'s like to lose everything in a flood']\n",
        "sequences=tokenizer.texts_to_sequences(sentences)\n",
        "padded=pad_sequences(sequences,maxlen=max_length,padding=padding_type,truncating=trunc_type)\n",
        "print(model.predict(padded))"
      ],
      "metadata": {
        "colab": {
          "base_uri": "https://localhost:8080/"
        },
        "id": "4FbrWcMxCK4x",
        "outputId": "f3792f5b-5c3c-4dd7-f35c-2ff1e55eec33"
      },
      "execution_count": null,
      "outputs": [
        {
          "output_type": "stream",
          "name": "stdout",
          "text": [
            "1/1 [==============================] - 0s 42ms/step\n",
            "[[9.9830168e-01]\n",
            " [6.4055534e-06]]\n"
          ]
        }
      ]
    }
  ]
}